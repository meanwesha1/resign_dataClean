{
 "cells": [
  {
   "cell_type": "code",
   "execution_count": null,
   "metadata": {},
   "outputs": [],
   "source": [
    "#We will work on 2 datasets containing survey data of employees resigning from DETE and TAFE body of the Queensland government in Australia.\n",
    "#We'll clean the data and analyze the probable reasons for resignations given by both short-term and long-term employees.\n",
    "#Specificlly, we'll try to answer the following questions:\n",
    "#Are employees who only worked for the institutes for a short period of time resigning due to some kind of dissatisfaction?\n",
    "#What about employees who have been there longer?"
   ]
  },
  {
   "cell_type": "code",
   "execution_count": 46,
   "metadata": {},
   "outputs": [
    {
     "name": "stdout",
     "output_type": "stream",
     "text": [
      "   ID                    SeparationType Cease Date DETE Start Date Role Start Date  \\\n",
      "0   1             Ill Health Retirement    08/2012            1984            2004   \n",
      "1   2  Voluntary Early Retirement (VER)    08/2012      Not Stated      Not Stated   \n",
      "2   3  Voluntary Early Retirement (VER)    05/2012            2011            2011   \n",
      "\n",
      "          Position Classification          Region                      Business Unit  \\\n",
      "0   Public Servant        A01-A04  Central Office  Corporate Strategy and Peformance   \n",
      "1   Public Servant        AO5-AO7  Central Office  Corporate Strategy and Peformance   \n",
      "2  Schools Officer            NaN  Central Office               Education Queensland   \n",
      "\n",
      "     Employment Status  Career move to public sector  Career move to private sector  \\\n",
      "0  Permanent Full-time                          True                          False   \n",
      "1  Permanent Full-time                         False                          False   \n",
      "2  Permanent Full-time                         False                          False   \n",
      "\n",
      "   Interpersonal conflicts  Job dissatisfaction  Dissatisfaction with the department  \\\n",
      "0                    False                 True                                False   \n",
      "1                    False                False                                False   \n",
      "2                    False                False                                False   \n",
      "\n",
      "   Physical work environment  Lack of recognition  Lack of job security  Work location  \\\n",
      "0                      False                 True                 False          False   \n",
      "1                      False                False                 False          False   \n",
      "2                      False                False                 False          False   \n",
      "\n",
      "   Employment conditions  Maternity/family  Relocation  Study/Travel  Ill Health  \\\n",
      "0                  False             False       False         False       False   \n",
      "1                  False             False       False         False       False   \n",
      "2                  False             False       False         False       False   \n",
      "\n",
      "   Traumatic incident  Work life balance  Workload  None of the above Professional Development  \\\n",
      "0               False              False     False               True                        A   \n",
      "1               False              False     False              False                        A   \n",
      "2               False              False     False               True                        N   \n",
      "\n",
      "  Opportunities for promotion Staff morale Workplace issue Physical environment Worklife balance  \\\n",
      "0                           A            N               N                    N                A   \n",
      "1                           A            N               N                    N                N   \n",
      "2                           N            N               N                    N                N   \n",
      "\n",
      "  Stress and pressure support Performance of supervisor Peer support Initiative Skills Coach  \\\n",
      "0                           A                         A            A          N      N     N   \n",
      "1                           A                         A            A          N      N     N   \n",
      "2                           N                         N            N          N      N     N   \n",
      "\n",
      "  Career Aspirations Feedback Further PD Communication My say Information Kept informed  \\\n",
      "0                  A        A          A             N      A           A             N   \n",
      "1                  A        A          A             N      A           A             N   \n",
      "2                  N        N          N             A      A           N             N   \n",
      "\n",
      "  Wellness programs Health & Safety Gender          Age Aboriginal Torres Strait South Sea  \\\n",
      "0                 N               N   Male        56-60        NaN           NaN       NaN   \n",
      "1                 N               N   Male        56-60        NaN           NaN       NaN   \n",
      "2                 N               N   Male  61 or older        NaN           NaN       NaN   \n",
      "\n",
      "  Disability NESB  \n",
      "0        NaN  Yes  \n",
      "1        NaN  NaN  \n",
      "2        NaN  NaN  \n"
     ]
    }
   ],
   "source": [
    "import pandas as pd\n",
    "import numpy as np\n",
    "dete_survey = pd.read_csv('dete_survey.csv')\n",
    "print(dete_survey.head(3))"
   ]
  },
  {
   "cell_type": "code",
   "execution_count": null,
   "metadata": {},
   "outputs": [],
   "source": [
    "#We can see that the 'DETE Start Date', 'Role Start Date' columns in the beginning contains 'Not Stated' values that \n",
    "#indicate values are missing, but they aren't represented as  NaN.\n",
    "#So we read in the data again, but this time changing the 'Not Stated' to NaN."
   ]
  },
  {
   "cell_type": "code",
   "execution_count": 47,
   "metadata": {},
   "outputs": [
    {
     "name": "stdout",
     "output_type": "stream",
     "text": [
      "<class 'pandas.core.frame.DataFrame'>\n",
      "RangeIndex: 822 entries, 0 to 821\n",
      "Data columns (total 56 columns):\n",
      "ID                                     822 non-null int64\n",
      "SeparationType                         822 non-null object\n",
      "Cease Date                             788 non-null object\n",
      "DETE Start Date                        749 non-null float64\n",
      "Role Start Date                        724 non-null float64\n",
      "Position                               817 non-null object\n",
      "Classification                         455 non-null object\n",
      "Region                                 717 non-null object\n",
      "Business Unit                          126 non-null object\n",
      "Employment Status                      817 non-null object\n",
      "Career move to public sector           822 non-null bool\n",
      "Career move to private sector          822 non-null bool\n",
      "Interpersonal conflicts                822 non-null bool\n",
      "Job dissatisfaction                    822 non-null bool\n",
      "Dissatisfaction with the department    822 non-null bool\n",
      "Physical work environment              822 non-null bool\n",
      "Lack of recognition                    822 non-null bool\n",
      "Lack of job security                   822 non-null bool\n",
      "Work location                          822 non-null bool\n",
      "Employment conditions                  822 non-null bool\n",
      "Maternity/family                       822 non-null bool\n",
      "Relocation                             822 non-null bool\n",
      "Study/Travel                           822 non-null bool\n",
      "Ill Health                             822 non-null bool\n",
      "Traumatic incident                     822 non-null bool\n",
      "Work life balance                      822 non-null bool\n",
      "Workload                               822 non-null bool\n",
      "None of the above                      822 non-null bool\n",
      "Professional Development               808 non-null object\n",
      "Opportunities for promotion            735 non-null object\n",
      "Staff morale                           816 non-null object\n",
      "Workplace issue                        788 non-null object\n",
      "Physical environment                   817 non-null object\n",
      "Worklife balance                       815 non-null object\n",
      "Stress and pressure support            810 non-null object\n",
      "Performance of supervisor              813 non-null object\n",
      "Peer support                           812 non-null object\n",
      "Initiative                             813 non-null object\n",
      "Skills                                 811 non-null object\n",
      "Coach                                  767 non-null object\n",
      "Career Aspirations                     746 non-null object\n",
      "Feedback                               792 non-null object\n",
      "Further PD                             768 non-null object\n",
      "Communication                          814 non-null object\n",
      "My say                                 812 non-null object\n",
      "Information                            816 non-null object\n",
      "Kept informed                          813 non-null object\n",
      "Wellness programs                      766 non-null object\n",
      "Health & Safety                        793 non-null object\n",
      "Gender                                 798 non-null object\n",
      "Age                                    811 non-null object\n",
      "Aboriginal                             16 non-null object\n",
      "Torres Strait                          3 non-null object\n",
      "South Sea                              7 non-null object\n",
      "Disability                             23 non-null object\n",
      "NESB                                   32 non-null object\n",
      "dtypes: bool(18), float64(2), int64(1), object(35)\n",
      "memory usage: 146.1+ KB\n",
      "None\n"
     ]
    }
   ],
   "source": [
    "dete_survey = pd.read_csv('dete_survey.csv', na_values='Not Stated')\n",
    "print(dete_survey.info())"
   ]
  },
  {
   "cell_type": "code",
   "execution_count": 50,
   "metadata": {},
   "outputs": [
    {
     "name": "stdout",
     "output_type": "stream",
     "text": [
      "tafe_survey.head(3)\n",
      "            Record ID                              Institute                  WorkArea  \\\n",
      "0  634133009996094000  Southern Queensland Institute of TAFE  Non-Delivery (corporate)   \n",
      "1  634133654064531000            Mount Isa Institute of TAFE  Non-Delivery (corporate)   \n",
      "2  634138845606563000            Mount Isa Institute of TAFE       Delivery (teaching)   \n",
      "\n",
      "   CESSATION YEAR Reason for ceasing employment  \\\n",
      "0          2010.0              Contract Expired   \n",
      "1          2010.0                    Retirement   \n",
      "2          2010.0                    Retirement   \n",
      "\n",
      "  Contributing Factors. Career Move - Public Sector   \\\n",
      "0                                                NaN   \n",
      "1                                                  -   \n",
      "2                                                  -   \n",
      "\n",
      "  Contributing Factors. Career Move - Private Sector   \\\n",
      "0                                                NaN    \n",
      "1                                                  -    \n",
      "2                                                  -    \n",
      "\n",
      "  Contributing Factors. Career Move - Self-employment Contributing Factors. Ill Health  \\\n",
      "0                                                NaN                               NaN   \n",
      "1                                                  -                                 -   \n",
      "2                                                  -                                 -   \n",
      "\n",
      "  Contributing Factors. Maternity/Family Contributing Factors. Dissatisfaction  \\\n",
      "0                                    NaN                                   NaN   \n",
      "1                                      -                                     -   \n",
      "2                                      -                                     -   \n",
      "\n",
      "  Contributing Factors. Job Dissatisfaction Contributing Factors. Interpersonal Conflict  \\\n",
      "0                                       NaN                                          NaN   \n",
      "1                                         -                                            -   \n",
      "2                                         -                                            -   \n",
      "\n",
      "  Contributing Factors. Study Contributing Factors. Travel Contributing Factors. Other  \\\n",
      "0                         NaN                          NaN                         NaN   \n",
      "1                           -                       Travel                           -   \n",
      "2                           -                            -                           -   \n",
      "\n",
      "  Contributing Factors. NONE Main Factor.     Which of these was the main factor for leaving?  \\\n",
      "0                        NaN                                                NaN                 \n",
      "1                          -                                                NaN                 \n",
      "2                       NONE                                                NaN                 \n",
      "\n",
      "  InstituteViews. Topic:1. I feel the senior leadership had a clear vision and direction  \\\n",
      "0                                              Agree                                       \n",
      "1                                              Agree                                       \n",
      "2                                              Agree                                       \n",
      "\n",
      "  InstituteViews. Topic:2. I was given access to skills training to help me do my job better  \\\n",
      "0                                              Agree                                           \n",
      "1                                              Agree                                           \n",
      "2                                              Agree                                           \n",
      "\n",
      "  InstituteViews. Topic:3. I was given adequate opportunities for personal development  \\\n",
      "0                                              Agree                                     \n",
      "1                                              Agree                                     \n",
      "2                                              Agree                                     \n",
      "\n",
      "  InstituteViews. Topic:4. I was given adequate opportunities for promotion within %Institute]Q25LBL%  \\\n",
      "0                                            Neutral                                                    \n",
      "1                                              Agree                                                    \n",
      "2                                              Agree                                                    \n",
      "\n",
      "  InstituteViews. Topic:5. I felt the salary for the job was right for the responsibilities I had  \\\n",
      "0                                              Agree                                                \n",
      "1                                              Agree                                                \n",
      "2                                              Agree                                                \n",
      "\n",
      "  InstituteViews. Topic:6. The organisation recognised when staff did good work  \\\n",
      "0                                              Agree                              \n",
      "1                                     Strongly Agree                              \n",
      "2                                              Agree                              \n",
      "\n",
      "  InstituteViews. Topic:7. Management was generally supportive of me  \\\n",
      "0                                              Agree                   \n",
      "1                                     Strongly Agree                   \n",
      "2                                     Strongly Agree                   \n",
      "\n",
      "  InstituteViews. Topic:8. Management was generally supportive of my team  \\\n",
      "0                                              Agree                        \n",
      "1                                              Agree                        \n",
      "2                                              Agree                        \n",
      "\n",
      "  InstituteViews. Topic:9. I was kept informed of the changes in the organisation which would affect me  \\\n",
      "0                                              Agree                                                      \n",
      "1                                     Strongly Agree                                                      \n",
      "2                                              Agree                                                      \n",
      "\n",
      "  InstituteViews. Topic:10. Staff morale was positive within the Institute  \\\n",
      "0                                              Agree                         \n",
      "1                                              Agree                         \n",
      "2                                              Agree                         \n",
      "\n",
      "  InstituteViews. Topic:11. If I had a workplace issue it was dealt with quickly  \\\n",
      "0                                              Agree                               \n",
      "1                                              Agree                               \n",
      "2                                              Agree                               \n",
      "\n",
      "  InstituteViews. Topic:12. If I had a workplace issue it was dealt with efficiently  \\\n",
      "0                                              Agree                                   \n",
      "1                                              Agree                                   \n",
      "2                                            Neutral                                   \n",
      "\n",
      "  InstituteViews. Topic:13. If I had a workplace issue it was dealt with discreetly  \\\n",
      "0                                              Agree                                  \n",
      "1                                           Disagree                                  \n",
      "2                                            Neutral                                  \n",
      "\n",
      "  WorkUnitViews. Topic:14. I was satisfied with the quality of the management and supervision within my work unit  \\\n",
      "0                                              Agree                                                                \n",
      "1                                     Strongly Agree                                                                \n",
      "2                                     Strongly Agree                                                                \n",
      "\n",
      "  WorkUnitViews. Topic:15. I worked well with my colleagues  \\\n",
      "0                                              Agree          \n",
      "1                                     Strongly Agree          \n",
      "2                                     Strongly Agree          \n",
      "\n",
      "  WorkUnitViews. Topic:16. My job was challenging and interesting  \\\n",
      "0                                              Agree                \n",
      "1                                     Strongly Agree                \n",
      "2                                              Agree                \n",
      "\n",
      "  WorkUnitViews. Topic:17. I was encouraged to use my initiative in the course of my work  \\\n",
      "0                                     Strongly Agree                                        \n",
      "1                                              Agree                                        \n",
      "2                                              Agree                                        \n",
      "\n",
      "  WorkUnitViews. Topic:18. I had sufficient contact with other people in my job  \\\n",
      "0                                              Agree                              \n",
      "1                                              Agree                              \n",
      "2                                              Agree                              \n",
      "\n",
      "  WorkUnitViews. Topic:19. I was given adequate support and co-operation by my peers to enable me to do my job  \\\n",
      "0                                              Agree                                                             \n",
      "1                                              Agree                                                             \n",
      "2                                              Agree                                                             \n",
      "\n",
      "  WorkUnitViews. Topic:20. I was able to use the full range of my skills in my job  \\\n",
      "0                                              Agree                                 \n",
      "1                                     Strongly Agree                                 \n",
      "2                                              Agree                                 \n",
      "\n",
      "  WorkUnitViews. Topic:21. I was able to use the full range of my abilities in my job. ; Category:Level of Agreement; Question:YOUR VIEWS ABOUT YOUR WORK UNIT]  \\\n",
      "0                                              Agree                                                                                                              \n",
      "1                                              Agree                                                                                                              \n",
      "2                                              Agree                                                                                                              \n",
      "\n",
      "  WorkUnitViews. Topic:22. I was able to use the full range of my knowledge in my job  \\\n",
      "0                                              Agree                                    \n",
      "1                                              Agree                                    \n",
      "2                                              Agree                                    \n",
      "\n",
      "  WorkUnitViews. Topic:23. My job provided sufficient variety  \\\n",
      "0                                              Agree            \n",
      "1                                              Agree            \n",
      "2                                              Agree            \n",
      "\n",
      "  WorkUnitViews. Topic:24. I was able to cope with the level of stress and pressure in my job  \\\n",
      "0                                              Agree                                            \n",
      "1                                     Strongly Agree                                            \n",
      "2                                              Agree                                            \n",
      "\n",
      "  WorkUnitViews. Topic:25. My job allowed me to balance the demands of work and family to my satisfaction  \\\n",
      "0                                              Agree                                                        \n",
      "1                                              Agree                                                        \n",
      "2                                              Agree                                                        \n",
      "\n",
      "  WorkUnitViews. Topic:26. My supervisor gave me adequate personal recognition and feedback on my performance  \\\n",
      "0                                              Agree                                                            \n",
      "1                                     Strongly Agree                                                            \n",
      "2                                              Agree                                                            \n",
      "\n",
      "  WorkUnitViews. Topic:27. My working environment was satisfactory e.g. sufficient space, good lighting, suitable seating and working area  \\\n",
      "0                                              Agree                                                                                         \n",
      "1                                     Strongly Agree                                                                                         \n",
      "2                                              Agree                                                                                         \n",
      "\n",
      "  WorkUnitViews. Topic:28. I was given the opportunity to mentor and coach others in order for me to pass on my skills and knowledge prior to my cessation date  \\\n",
      "0                                            Neutral                                                                                                              \n",
      "1                                              Agree                                                                                                              \n",
      "2                                              Agree                                                                                                              \n",
      "\n",
      "  WorkUnitViews. Topic:29. There was adequate communication between staff in my unit  \\\n",
      "0                                              Agree                                   \n",
      "1                                              Agree                                   \n",
      "2                                              Agree                                   \n",
      "\n",
      "  WorkUnitViews. Topic:30. Staff morale was positive within my work unit  \\\n",
      "0                                              Agree                       \n",
      "1                                     Strongly Agree                       \n",
      "2                                              Agree                       \n",
      "\n",
      "  Induction. Did you undertake Workplace Induction?  \\\n",
      "0                                               Yes   \n",
      "1                                                No   \n",
      "2                                                No   \n",
      "\n",
      "  InductionInfo. Topic:Did you undertake a Corporate Induction?  \\\n",
      "0                                                Yes              \n",
      "1                                                NaN              \n",
      "2                                                NaN              \n",
      "\n",
      "  InductionInfo. Topic:Did you undertake a Institute Induction?  \\\n",
      "0                                                Yes              \n",
      "1                                                NaN              \n",
      "2                                                NaN              \n",
      "\n",
      "  InductionInfo. Topic: Did you undertake Team Induction?  \\\n",
      "0                                                Yes        \n",
      "1                                                NaN        \n",
      "2                                                NaN        \n",
      "\n",
      "  InductionInfo. Face to Face Topic:Did you undertake a Corporate Induction; Category:How it was conducted?  \\\n",
      "0                                       Face to Face                                                          \n",
      "1                                                NaN                                                          \n",
      "2                                                NaN                                                          \n",
      "\n",
      "  InductionInfo. On-line Topic:Did you undertake a Corporate Induction; Category:How it was conducted?  \\\n",
      "0                                                  -                                                     \n",
      "1                                                NaN                                                     \n",
      "2                                                NaN                                                     \n",
      "\n",
      "  InductionInfo. Induction Manual Topic:Did you undertake a Corporate Induction?  \\\n",
      "0                                                  -                               \n",
      "1                                                NaN                               \n",
      "2                                                NaN                               \n",
      "\n",
      "  InductionInfo. Face to Face Topic:Did you undertake a Institute Induction?  \\\n",
      "0                                       Face to Face                           \n",
      "1                                                NaN                           \n",
      "2                                                NaN                           \n",
      "\n",
      "  InductionInfo. On-line Topic:Did you undertake a Institute Induction?  \\\n",
      "0                                                  -                      \n",
      "1                                                NaN                      \n",
      "2                                                NaN                      \n",
      "\n",
      "  InductionInfo. Induction Manual Topic:Did you undertake a Institute Induction?  \\\n",
      "0                                                  -                               \n",
      "1                                                NaN                               \n",
      "2                                                NaN                               \n",
      "\n",
      "  InductionInfo. Face to Face Topic: Did you undertake Team Induction; Category?  \\\n",
      "0                                       Face to Face                               \n",
      "1                                                NaN                               \n",
      "2                                                NaN                               \n",
      "\n",
      "  InductionInfo. On-line Topic: Did you undertake Team Induction?process you undertook and how it was conducted.]  \\\n",
      "0                                                  -                                                                \n",
      "1                                                NaN                                                                \n",
      "2                                                NaN                                                                \n",
      "\n",
      "  InductionInfo. Induction Manual Topic: Did you undertake Team Induction?  \\\n",
      "0                                                  -                         \n",
      "1                                                NaN                         \n",
      "2                                                NaN                         \n",
      "\n",
      "  Workplace. Topic:Did you and your Manager develop a Performance and Professional Development Plan (PPDP)?  \\\n",
      "0                                                Yes                                                          \n",
      "1                                                Yes                                                          \n",
      "2                                                Yes                                                          \n",
      "\n",
      "  Workplace. Topic:Does your workplace promote a work culture free from all forms of unlawful discrimination?  \\\n",
      "0                                                Yes                                                            \n",
      "1                                                Yes                                                            \n",
      "2                                                Yes                                                            \n",
      "\n",
      "  Workplace. Topic:Does your workplace promote and practice the principles of employment equity?  \\\n",
      "0                                                Yes                                               \n",
      "1                                                Yes                                               \n",
      "2                                                Yes                                               \n",
      "\n",
      "  Workplace. Topic:Does your workplace value the diversity of its employees?  \\\n",
      "0                                                Yes                           \n",
      "1                                                Yes                           \n",
      "2                                                Yes                           \n",
      "\n",
      "  Workplace. Topic:Would you recommend the Institute as an employer to others?  \\\n",
      "0                                                Yes                             \n",
      "1                                                Yes                             \n",
      "2                                                Yes                             \n",
      "\n",
      "  Gender.     What is your Gender? CurrentAge.     Current Age  \\\n",
      "0                           Female                     26 – 30   \n",
      "1                              NaN                         NaN   \n",
      "2                              NaN                         NaN   \n",
      "\n",
      "  Employment Type.     Employment Type Classification.     Classification  \\\n",
      "0                  Temporary Full-time                Administration (AO)   \n",
      "1                                  NaN                                NaN   \n",
      "2                                  NaN                                NaN   \n",
      "\n",
      "  LengthofServiceOverall. Overall Length of Service at Institute (in years)  \\\n",
      "0                                                1-2                          \n",
      "1                                                NaN                          \n",
      "2                                                NaN                          \n",
      "\n",
      "  LengthofServiceCurrent. Length of Service at current workplace (in years)  \n",
      "0                                                1-2                         \n",
      "1                                                NaN                         \n",
      "2                                                NaN                         \n"
     ]
    }
   ],
   "source": [
    "tafe_survey = pd.read_csv(\"tafe_survey.csv\", encoding ='Windows-1251')\n",
    "print('tafe_survey.head(3)')\n",
    "print(tafe_survey.head(3))"
   ]
  },
  {
   "cell_type": "code",
   "execution_count": 51,
   "metadata": {},
   "outputs": [
    {
     "name": "stdout",
     "output_type": "stream",
     "text": [
      "tafe_survey.info()\n",
      "<class 'pandas.core.frame.DataFrame'>\n",
      "RangeIndex: 702 entries, 0 to 701\n",
      "Data columns (total 72 columns):\n",
      "Record ID                                                                                                                                                        702 non-null int64\n",
      "Institute                                                                                                                                                        702 non-null object\n",
      "WorkArea                                                                                                                                                         702 non-null object\n",
      "CESSATION YEAR                                                                                                                                                   695 non-null float64\n",
      "Reason for ceasing employment                                                                                                                                    701 non-null object\n",
      "Contributing Factors. Career Move - Public Sector                                                                                                                437 non-null object\n",
      "Contributing Factors. Career Move - Private Sector                                                                                                               437 non-null object\n",
      "Contributing Factors. Career Move - Self-employment                                                                                                              437 non-null object\n",
      "Contributing Factors. Ill Health                                                                                                                                 437 non-null object\n",
      "Contributing Factors. Maternity/Family                                                                                                                           437 non-null object\n",
      "Contributing Factors. Dissatisfaction                                                                                                                            437 non-null object\n",
      "Contributing Factors. Job Dissatisfaction                                                                                                                        437 non-null object\n",
      "Contributing Factors. Interpersonal Conflict                                                                                                                     437 non-null object\n",
      "Contributing Factors. Study                                                                                                                                      437 non-null object\n",
      "Contributing Factors. Travel                                                                                                                                     437 non-null object\n",
      "Contributing Factors. Other                                                                                                                                      437 non-null object\n",
      "Contributing Factors. NONE                                                                                                                                       437 non-null object\n",
      "Main Factor.     Which of these was the main factor for leaving?                                                                                                 113 non-null object\n",
      "InstituteViews. Topic:1. I feel the senior leadership had a clear vision and direction                                                                           608 non-null object\n",
      "InstituteViews. Topic:2. I was given access to skills training to help me do my job better                                                                       613 non-null object\n",
      "InstituteViews. Topic:3. I was given adequate opportunities for personal development                                                                             610 non-null object\n",
      "InstituteViews. Topic:4. I was given adequate opportunities for promotion within %Institute]Q25LBL%                                                              608 non-null object\n",
      "InstituteViews. Topic:5. I felt the salary for the job was right for the responsibilities I had                                                                  615 non-null object\n",
      "InstituteViews. Topic:6. The organisation recognised when staff did good work                                                                                    607 non-null object\n",
      "InstituteViews. Topic:7. Management was generally supportive of me                                                                                               614 non-null object\n",
      "InstituteViews. Topic:8. Management was generally supportive of my team                                                                                          608 non-null object\n",
      "InstituteViews. Topic:9. I was kept informed of the changes in the organisation which would affect me                                                            610 non-null object\n",
      "InstituteViews. Topic:10. Staff morale was positive within the Institute                                                                                         602 non-null object\n",
      "InstituteViews. Topic:11. If I had a workplace issue it was dealt with quickly                                                                                   601 non-null object\n",
      "InstituteViews. Topic:12. If I had a workplace issue it was dealt with efficiently                                                                               597 non-null object\n",
      "InstituteViews. Topic:13. If I had a workplace issue it was dealt with discreetly                                                                                601 non-null object\n",
      "WorkUnitViews. Topic:14. I was satisfied with the quality of the management and supervision within my work unit                                                  609 non-null object\n",
      "WorkUnitViews. Topic:15. I worked well with my colleagues                                                                                                        605 non-null object\n",
      "WorkUnitViews. Topic:16. My job was challenging and interesting                                                                                                  607 non-null object\n",
      "WorkUnitViews. Topic:17. I was encouraged to use my initiative in the course of my work                                                                          610 non-null object\n",
      "WorkUnitViews. Topic:18. I had sufficient contact with other people in my job                                                                                    613 non-null object\n",
      "WorkUnitViews. Topic:19. I was given adequate support and co-operation by my peers to enable me to do my job                                                     609 non-null object\n",
      "WorkUnitViews. Topic:20. I was able to use the full range of my skills in my job                                                                                 609 non-null object\n",
      "WorkUnitViews. Topic:21. I was able to use the full range of my abilities in my job. ; Category:Level of Agreement; Question:YOUR VIEWS ABOUT YOUR WORK UNIT]    608 non-null object\n",
      "WorkUnitViews. Topic:22. I was able to use the full range of my knowledge in my job                                                                              608 non-null object\n",
      "WorkUnitViews. Topic:23. My job provided sufficient variety                                                                                                      611 non-null object\n",
      "WorkUnitViews. Topic:24. I was able to cope with the level of stress and pressure in my job                                                                      610 non-null object\n",
      "WorkUnitViews. Topic:25. My job allowed me to balance the demands of work and family to my satisfaction                                                          611 non-null object\n",
      "WorkUnitViews. Topic:26. My supervisor gave me adequate personal recognition and feedback on my performance                                                      606 non-null object\n",
      "WorkUnitViews. Topic:27. My working environment was satisfactory e.g. sufficient space, good lighting, suitable seating and working area                         610 non-null object\n",
      "WorkUnitViews. Topic:28. I was given the opportunity to mentor and coach others in order for me to pass on my skills and knowledge prior to my cessation date    609 non-null object\n",
      "WorkUnitViews. Topic:29. There was adequate communication between staff in my unit                                                                               603 non-null object\n",
      "WorkUnitViews. Topic:30. Staff morale was positive within my work unit                                                                                           606 non-null object\n",
      "Induction. Did you undertake Workplace Induction?                                                                                                                619 non-null object\n",
      "InductionInfo. Topic:Did you undertake a Corporate Induction?                                                                                                    432 non-null object\n",
      "InductionInfo. Topic:Did you undertake a Institute Induction?                                                                                                    483 non-null object\n",
      "InductionInfo. Topic: Did you undertake Team Induction?                                                                                                          440 non-null object\n",
      "InductionInfo. Face to Face Topic:Did you undertake a Corporate Induction; Category:How it was conducted?                                                        555 non-null object\n",
      "InductionInfo. On-line Topic:Did you undertake a Corporate Induction; Category:How it was conducted?                                                             555 non-null object\n",
      "InductionInfo. Induction Manual Topic:Did you undertake a Corporate Induction?                                                                                   555 non-null object\n",
      "InductionInfo. Face to Face Topic:Did you undertake a Institute Induction?                                                                                       530 non-null object\n",
      "InductionInfo. On-line Topic:Did you undertake a Institute Induction?                                                                                            555 non-null object\n",
      "InductionInfo. Induction Manual Topic:Did you undertake a Institute Induction?                                                                                   553 non-null object\n",
      "InductionInfo. Face to Face Topic: Did you undertake Team Induction; Category?                                                                                   555 non-null object\n",
      "InductionInfo. On-line Topic: Did you undertake Team Induction?process you undertook and how it was conducted.]                                                  555 non-null object\n",
      "InductionInfo. Induction Manual Topic: Did you undertake Team Induction?                                                                                         555 non-null object\n",
      "Workplace. Topic:Did you and your Manager develop a Performance and Professional Development Plan (PPDP)?                                                        608 non-null object\n",
      "Workplace. Topic:Does your workplace promote a work culture free from all forms of unlawful discrimination?                                                      594 non-null object\n",
      "Workplace. Topic:Does your workplace promote and practice the principles of employment equity?                                                                   587 non-null object\n",
      "Workplace. Topic:Does your workplace value the diversity of its employees?                                                                                       586 non-null object\n",
      "Workplace. Topic:Would you recommend the Institute as an employer to others?                                                                                     581 non-null object\n",
      "Gender.     What is your Gender?                                                                                                                                 596 non-null object\n",
      "CurrentAge.     Current Age                                                                                                                                      596 non-null object\n",
      "Employment Type.     Employment Type                                                                                                                             596 non-null object\n",
      "Classification.     Classification                                                                                                                               596 non-null object\n",
      "LengthofServiceOverall. Overall Length of Service at Institute (in years)                                                                                        596 non-null object\n",
      "LengthofServiceCurrent. Length of Service at current workplace (in years)                                                                                        596 non-null object\n",
      "dtypes: float64(1), int64(1), object(70)\n",
      "memory usage: 203.0+ KB\n",
      "None\n"
     ]
    }
   ],
   "source": [
    "print('tafe_survey.info()')\n",
    "print(tafe_survey.info())"
   ]
  },
  {
   "cell_type": "code",
   "execution_count": 52,
   "metadata": {},
   "outputs": [],
   "source": [
    "#Both the dataframes contain many columns which either contains repeated data or we don't need to complete our analysis.\n",
    "#So we will remove those columns at first.\n",
    "dete_survey_updated = dete_survey.drop(dete_survey.columns[28:49], axis=1)\n",
    "tafe_survey_updated = tafe_survey.drop(tafe_survey.columns[17:66], axis=1)"
   ]
  },
  {
   "cell_type": "code",
   "execution_count": null,
   "metadata": {},
   "outputs": [],
   "source": [
    "#Next, we'll standardize the names of the columns so that they are easy to use later on."
   ]
  },
  {
   "cell_type": "code",
   "execution_count": 53,
   "metadata": {},
   "outputs": [
    {
     "name": "stdout",
     "output_type": "stream",
     "text": [
      "dete_survey_updated.columns before\n",
      "Index(['ID', 'SeparationType', 'Cease Date', 'DETE Start Date', 'Role Start Date', 'Position',\n",
      "       'Classification', 'Region', 'Business Unit', 'Employment Status',\n",
      "       'Career move to public sector', 'Career move to private sector', 'Interpersonal conflicts',\n",
      "       'Job dissatisfaction', 'Dissatisfaction with the department', 'Physical work environment',\n",
      "       'Lack of recognition', 'Lack of job security', 'Work location', 'Employment conditions',\n",
      "       'Maternity/family', 'Relocation', 'Study/Travel', 'Ill Health', 'Traumatic incident',\n",
      "       'Work life balance', 'Workload', 'None of the above', 'Gender', 'Age', 'Aboriginal',\n",
      "       'Torres Strait', 'South Sea', 'Disability', 'NESB'],\n",
      "      dtype='object')\n",
      "dete_survey_updated.columns after\n",
      "Index(['id', 'separationtype', 'cease_date', 'dete_start_date', 'role_start_date', 'position',\n",
      "       'classification', 'region', 'business_unit', 'employment_status',\n",
      "       'career_move_to_public_sector', 'career_move_to_private_sector', 'interpersonal_conflicts',\n",
      "       'job_dissatisfaction', 'dissatisfaction_with_the_department', 'physical_work_environment',\n",
      "       'lack_of_recognition', 'lack_of_job_security', 'work_location', 'employment_conditions',\n",
      "       'maternity/family', 'relocation', 'study/travel', 'ill_health', 'traumatic_incident',\n",
      "       'work_life_balance', 'workload', 'none_of_the_above', 'gender', 'age', 'aboriginal',\n",
      "       'torres_strait', 'south_sea', 'disability', 'nesb'],\n",
      "      dtype='object')\n"
     ]
    }
   ],
   "source": [
    "print('dete_survey_updated.columns before')\n",
    "print(dete_survey_updated.columns)\n",
    "dete_survey_updated.columns = dete_survey_updated.columns.str.lower().str.strip().str.replace(' ', '_')\n",
    "print('dete_survey_updated.columns after')\n",
    "print(dete_survey_updated.columns)"
   ]
  },
  {
   "cell_type": "code",
   "execution_count": 54,
   "metadata": {},
   "outputs": [
    {
     "name": "stdout",
     "output_type": "stream",
     "text": [
      "tafe_survey_updated.columns before\n",
      "Index(['Record ID', 'Institute', 'WorkArea', 'CESSATION YEAR', 'Reason for ceasing employment',\n",
      "       'Contributing Factors. Career Move - Public Sector ',\n",
      "       'Contributing Factors. Career Move - Private Sector ',\n",
      "       'Contributing Factors. Career Move - Self-employment', 'Contributing Factors. Ill Health',\n",
      "       'Contributing Factors. Maternity/Family', 'Contributing Factors. Dissatisfaction',\n",
      "       'Contributing Factors. Job Dissatisfaction', 'Contributing Factors. Interpersonal Conflict',\n",
      "       'Contributing Factors. Study', 'Contributing Factors. Travel',\n",
      "       'Contributing Factors. Other', 'Contributing Factors. NONE',\n",
      "       'Gender.     What is your Gender?', 'CurrentAge.     Current Age',\n",
      "       'Employment Type.     Employment Type', 'Classification.     Classification',\n",
      "       'LengthofServiceOverall. Overall Length of Service at Institute (in years)',\n",
      "       'LengthofServiceCurrent. Length of Service at current workplace (in years)'],\n",
      "      dtype='object')\n",
      "tafe_survey_updated.columns after\n",
      "Index(['id', 'Institute', 'WorkArea', 'cease_date', 'separationtype',\n",
      "       'Contributing Factors. Career Move - Public Sector ',\n",
      "       'Contributing Factors. Career Move - Private Sector ',\n",
      "       'Contributing Factors. Career Move - Self-employment', 'Contributing Factors. Ill Health',\n",
      "       'Contributing Factors. Maternity/Family', 'Contributing Factors. Dissatisfaction',\n",
      "       'Contributing Factors. Job Dissatisfaction', 'Contributing Factors. Interpersonal Conflict',\n",
      "       'Contributing Factors. Study', 'Contributing Factors. Travel',\n",
      "       'Contributing Factors. Other', 'Contributing Factors. NONE',\n",
      "       'Gender.     What is your Gender?', 'CurrentAge.     Current Age',\n",
      "       'Employment Type.     Employment Type', 'Classification.     Classification',\n",
      "       'institute_service', 'role_service'],\n",
      "      dtype='object')\n"
     ]
    }
   ],
   "source": [
    "print('tafe_survey_updated.columns before')\n",
    "print(tafe_survey_updated.columns)\n",
    "mapping = {'Record ID': 'id', 'CESSATION YEAR': 'cease_date', 'Reason for ceasing employment': 'separationtype', 'Gender. What is your Gender?': 'gender', \\\n",
    "           'CurrentAge. Current Age': 'age', 'Employment Type. Employment Type': 'employment_status', 'Classification. Classification': 'position', \\\n",
    "           'LengthofServiceOverall. Overall Length of Service at Institute (in years)': 'institute_service', \\\n",
    "           'LengthofServiceCurrent. Length of Service at current workplace (in years)': 'role_service'}\n",
    "tafe_survey_updated = tafe_survey_updated.rename(mapper = mapping, axis=1)\n",
    "print('tafe_survey_updated.columns after')\n",
    "print(tafe_survey_updated.columns)"
   ]
  },
  {
   "cell_type": "code",
   "execution_count": null,
   "metadata": {},
   "outputs": [],
   "source": [
    "#We'll analyze data for only those people who resigned, so we'll only select separation types containing the string 'Resignation'."
   ]
  },
  {
   "cell_type": "code",
   "execution_count": 55,
   "metadata": {},
   "outputs": [
    {
     "name": "stdout",
     "output_type": "stream",
     "text": [
      "Resignation                 340\n",
      "Contract Expired            127\n",
      "Retrenchment/ Redundancy    104\n",
      "Retirement                   82\n",
      "Transfer                     25\n",
      "Termination                  23\n",
      "Name: separationtype, dtype: int64\n"
     ]
    }
   ],
   "source": [
    "print(tafe_survey_updated['separationtype'].value_counts())"
   ]
  },
  {
   "cell_type": "code",
   "execution_count": 56,
   "metadata": {},
   "outputs": [
    {
     "name": "stdout",
     "output_type": "stream",
     "text": [
      "Age Retirement                          285\n",
      "Resignation-Other reasons               150\n",
      "Resignation-Other employer               91\n",
      "Resignation-Move overseas/interstate     70\n",
      "Voluntary Early Retirement (VER)         67\n",
      "Ill Health Retirement                    61\n",
      "Other                                    49\n",
      "Contract Expired                         34\n",
      "Termination                              15\n",
      "Name: separationtype, dtype: int64\n"
     ]
    }
   ],
   "source": [
    "print(dete_survey_updated['separationtype'].value_counts())"
   ]
  },
  {
   "cell_type": "code",
   "execution_count": null,
   "metadata": {},
   "outputs": [],
   "source": [
    "#We will combine the 3 causes for Resignation into one."
   ]
  },
  {
   "cell_type": "code",
   "execution_count": 57,
   "metadata": {},
   "outputs": [
    {
     "name": "stdout",
     "output_type": "stream",
     "text": [
      "Resignation                         311\n",
      "Age Retirement                      285\n",
      "Voluntary Early Retirement (VER)     67\n",
      "Ill Health Retirement                61\n",
      "Other                                49\n",
      "Contract Expired                     34\n",
      "Termination                          15\n",
      "Name: separationtype, dtype: int64\n"
     ]
    }
   ],
   "source": [
    "dete_survey_updated['separationtype'] = dete_survey_updated['separationtype'].str.split('-').str[0]\n",
    "print(dete_survey_updated['separationtype'].value_counts())"
   ]
  },
  {
   "cell_type": "code",
   "execution_count": 59,
   "metadata": {},
   "outputs": [],
   "source": [
    "dete_resignations = dete_survey_updated[dete_survey_updated['separationtype'] == 'Resignation'].copy()\n",
    "tafe_resignations = tafe_survey_updated[tafe_survey_updated['separationtype'] == 'Resignation'].copy()"
   ]
  },
  {
   "cell_type": "code",
   "execution_count": null,
   "metadata": {},
   "outputs": [],
   "source": [
    "#We'll clean and explore the cease_date and dete_start_date columns to make sure all of the years make sense.\n",
    "#Since the cease_date is the last year of the person's employment it wouldn't make sense to have years after the current date(the date on which data was collected\n",
    "#i.e, Mar'2014 for both the datasets)."
   ]
  },
  {
   "cell_type": "code",
   "execution_count": 62,
   "metadata": {},
   "outputs": [
    {
     "name": "stdout",
     "output_type": "stream",
     "text": [
      "1963.0     1\n",
      "1971.0     1\n",
      "1972.0     1\n",
      "1984.0     1\n",
      "1977.0     1\n",
      "1987.0     1\n",
      "1975.0     1\n",
      "1973.0     1\n",
      "1982.0     1\n",
      "1974.0     2\n",
      "1983.0     2\n",
      "1976.0     2\n",
      "1986.0     3\n",
      "1985.0     3\n",
      "2001.0     3\n",
      "1995.0     4\n",
      "1988.0     4\n",
      "1989.0     4\n",
      "1991.0     4\n",
      "1997.0     5\n",
      "1980.0     5\n",
      "1993.0     5\n",
      "1990.0     5\n",
      "1994.0     6\n",
      "2003.0     6\n",
      "1998.0     6\n",
      "1992.0     6\n",
      "2002.0     6\n",
      "1996.0     6\n",
      "1999.0     8\n",
      "2000.0     9\n",
      "2013.0    10\n",
      "2009.0    13\n",
      "2006.0    13\n",
      "2004.0    14\n",
      "2005.0    15\n",
      "2010.0    17\n",
      "2012.0    21\n",
      "2007.0    21\n",
      "2008.0    22\n",
      "2011.0    24\n",
      "Name: dete_start_date, dtype: int64\n"
     ]
    }
   ],
   "source": [
    "print(dete_resignations['dete_start_date'].value_counts().sort_values())"
   ]
  },
  {
   "cell_type": "code",
   "execution_count": 60,
   "metadata": {},
   "outputs": [
    {
     "name": "stdout",
     "output_type": "stream",
     "text": [
      "2012       126\n",
      "2013        74\n",
      "01/2014     22\n",
      "12/2013     17\n",
      "06/2013     14\n",
      "09/2013     11\n",
      "11/2013      9\n",
      "07/2013      9\n",
      "10/2013      6\n",
      "08/2013      4\n",
      "05/2013      2\n",
      "05/2012      2\n",
      "07/2012      1\n",
      "2010         1\n",
      "09/2010      1\n",
      "07/2006      1\n",
      "Name: cease_date, dtype: int64\n"
     ]
    }
   ],
   "source": [
    "print(dete_resignations['cease_date'].value_counts())"
   ]
  },
  {
   "cell_type": "code",
   "execution_count": 61,
   "metadata": {},
   "outputs": [
    {
     "name": "stdout",
     "output_type": "stream",
     "text": [
      "2013.0    146\n",
      "2012.0    129\n",
      "2014.0     22\n",
      "2010.0      2\n",
      "2006.0      1\n",
      "Name: cease_date, dtype: int64\n"
     ]
    }
   ],
   "source": [
    "#For those rows containing both month and year, we will extract only the year values.\n",
    "dete_resignations['cease_date'] = dete_resignations['cease_date'].str.split('/').str[-1]\n",
    "dete_resignations['cease_date'] = dete_resignations['cease_date'].astype(\"float\")\n",
    "print(dete_resignations['cease_date'].value_counts())"
   ]
  },
  {
   "cell_type": "code",
   "execution_count": 64,
   "metadata": {},
   "outputs": [
    {
     "name": "stdout",
     "output_type": "stream",
     "text": [
      "2009.0      2\n",
      "2013.0     55\n",
      "2010.0     68\n",
      "2012.0     94\n",
      "2011.0    116\n",
      "Name: cease_date, dtype: int64\n"
     ]
    }
   ],
   "source": [
    "print(tafe_resignations['cease_date'].value_counts().sort_values())"
   ]
  },
  {
   "cell_type": "code",
   "execution_count": null,
   "metadata": {},
   "outputs": [],
   "source": [
    "#According to the question framed above we need a column containing the length of time an employee spent in their workplace, or years of service, in both dataframes."
   ]
  },
  {
   "cell_type": "code",
   "execution_count": 66,
   "metadata": {},
   "outputs": [
    {
     "name": "stdout",
     "output_type": "stream",
     "text": [
      "3      7.0\n",
      "5     18.0\n",
      "8      3.0\n",
      "9     15.0\n",
      "11     3.0\n",
      "Name: institute_service, dtype: float64\n"
     ]
    }
   ],
   "source": [
    "dete_resignations['institute_service'] = dete_resignations['cease_date'] - dete_resignations['dete_start_date']\n",
    "print(dete_resignations['institute_service'].head())"
   ]
  },
  {
   "cell_type": "code",
   "execution_count": 67,
   "metadata": {},
   "outputs": [
    {
     "name": "stdout",
     "output_type": "stream",
     "text": [
      "3     NaN\n",
      "4     3-4\n",
      "5    7-10\n",
      "6     3-4\n",
      "7     3-4\n",
      "Name: institute_service, dtype: object\n"
     ]
    }
   ],
   "source": [
    "#We already have a column named 'institute_service' in tafe_resignations dataframe.\n",
    "print(tafe_resignations['institute_service'].head())"
   ]
  },
  {
   "cell_type": "code",
   "execution_count": null,
   "metadata": {},
   "outputs": [],
   "source": [
    "#Now we'll calculate the number of employees who resigned because they were dissatisfied.\n",
    "#We will use the columns 'Contributing Factors. Dissatisfaction', 'Contributing Factors. Job Dissatisfaction' from tafe_resignations"
   ]
  },
  {
   "cell_type": "code",
   "execution_count": 68,
   "metadata": {},
   "outputs": [
    {
     "name": "stdout",
     "output_type": "stream",
     "text": [
      "-                                         277\n",
      "Contributing Factors. Dissatisfaction      55\n",
      "Name: Contributing Factors. Dissatisfaction, dtype: int64\n"
     ]
    }
   ],
   "source": [
    "print(tafe_resignations['Contributing Factors. Dissatisfaction'].value_counts())"
   ]
  },
  {
   "cell_type": "code",
   "execution_count": 69,
   "metadata": {},
   "outputs": [
    {
     "name": "stdout",
     "output_type": "stream",
     "text": [
      "-                      270\n",
      "Job Dissatisfaction     62\n",
      "Name: Contributing Factors. Job Dissatisfaction, dtype: int64\n"
     ]
    }
   ],
   "source": [
    "print(tafe_resignations['Contributing Factors. Job Dissatisfaction'].value_counts())"
   ]
  },
  {
   "cell_type": "code",
   "execution_count": null,
   "metadata": {},
   "outputs": [],
   "source": [
    "#The new dissatisfied column will contain True if a person resigned because they were dissatisfied in some way, \n",
    "#False if a person resigned because of a reason other than job dissatisfaction and NaN if the value is missing."
   ]
  },
  {
   "cell_type": "code",
   "execution_count": 70,
   "metadata": {},
   "outputs": [],
   "source": [
    "def update_vals(x):\n",
    "    if x == '-':\n",
    "        return False\n",
    "    elif pd.isnull(x):\n",
    "        return np.nan\n",
    "    else:\n",
    "        return True"
   ]
  },
  {
   "cell_type": "code",
   "execution_count": 72,
   "metadata": {},
   "outputs": [
    {
     "name": "stdout",
     "output_type": "stream",
     "text": [
      "False    241\n",
      "True      91\n",
      "NaN        8\n",
      "Name: dissatisfied, dtype: int64\n"
     ]
    }
   ],
   "source": [
    "tafe_resignations['dissatisfied'] = tafe_resignations[['Contributing Factors. Dissatisfaction', 'Contributing Factors. \\\n",
    "Job Dissatisfaction']].applymap(update_vals).any(1, skipna=False)\n",
    "tafe_resignations_up = tafe_resignations.copy()\n",
    "print(tafe_resignations_up['dissatisfied'].value_counts(dropna=False))"
   ]
  },
  {
   "cell_type": "code",
   "execution_count": null,
   "metadata": {},
   "outputs": [],
   "source": [
    "#It shows 91 out of 340 i.e around 26% employees in TAFE resigned because of job dissatisfaction.\n",
    "#We will use the columns 'job_dissatisfaction', 'dissatisfaction_with_the_department', 'physical_work_environment', \n",
    "#'lack_of_recognition', 'lack_of_job_security', 'work_location', 'employment_conditions', 'work_life_balance', 'workload' \n",
    "#from dete_resignations."
   ]
  },
  {
   "cell_type": "code",
   "execution_count": 84,
   "metadata": {},
   "outputs": [
    {
     "name": "stdout",
     "output_type": "stream",
     "text": [
      "    job_dissatisfaction  dissatisfaction_with_the_department  physical_work_environment  \\\n",
      "3                 False                                False                      False   \n",
      "5                 False                                False                      False   \n",
      "8                 False                                False                      False   \n",
      "9                  True                                 True                      False   \n",
      "11                False                                False                      False   \n",
      "\n",
      "    lack_of_recognition  lack_of_job_security  work_location  employment_conditions  \\\n",
      "3                 False                 False          False                  False   \n",
      "5                 False                 False          False                   True   \n",
      "8                 False                 False          False                  False   \n",
      "9                 False                 False          False                  False   \n",
      "11                False                 False          False                  False   \n",
      "\n",
      "    work_life_balance  workload  \n",
      "3               False     False  \n",
      "5               False     False  \n",
      "8               False     False  \n",
      "9               False     False  \n",
      "11              False     False  \n"
     ]
    }
   ],
   "source": [
    "print(dete_resignations[['job_dissatisfaction','dissatisfaction_with_the_department', 'physical_work_environment',\\\n",
    "                                                       'lack_of_recognition', 'lack_of_job_security', 'work_location','employment_conditions', \\\n",
    "                                                       'work_life_balance','workload']].head())"
   ]
  },
  {
   "cell_type": "code",
   "execution_count": 73,
   "metadata": {},
   "outputs": [
    {
     "name": "stdout",
     "output_type": "stream",
     "text": [
      "False    162\n",
      "True     149\n",
      "Name: dissatisfied, dtype: int64\n"
     ]
    }
   ],
   "source": [
    "dete_resignations['dissatisfied'] = dete_resignations[['job_dissatisfaction','dissatisfaction_with_the_department', 'physical_work_environment',\\\n",
    "                                                       'lack_of_recognition', 'lack_of_job_security', 'work_location','employment_conditions', \\\n",
    "                                                       'work_life_balance','workload']].any(1, skipna=False)\n",
    "dete_resignations_up = dete_resignations.copy()\n",
    "print(dete_resignations_up['dissatisfied'].value_counts(dropna=False))"
   ]
  },
  {
   "cell_type": "code",
   "execution_count": null,
   "metadata": {},
   "outputs": [],
   "source": [
    "#The count is even higher in DETE, 149 out of 311 i.e near about 50% employees resigned because of job dissatisfaction.\n",
    "#Now we will combine both the dataframes, but before that we will add an institute column so that we can differentiate the data from each survey after we combine them."
   ]
  },
  {
   "cell_type": "code",
   "execution_count": 74,
   "metadata": {},
   "outputs": [
    {
     "name": "stderr",
     "output_type": "stream",
     "text": [
      "C:\\Users\\Shivam\\AppData\\Local\\Programs\\Python\\Python36-32\\lib\\site-packages\\ipykernel_launcher.py:3: FutureWarning: Sorting because non-concatenation axis is not aligned. A future version\n",
      "of pandas will change to not sort by default.\n",
      "\n",
      "To accept the future behavior, pass 'sort=False'.\n",
      "\n",
      "To retain the current behavior and silence the warning, pass 'sort=True'.\n",
      "\n",
      "  This is separate from the ipykernel package so we can avoid doing imports until\n"
     ]
    }
   ],
   "source": [
    "dete_resignations_up['institute'] = 'DETE'\n",
    "tafe_resignations_up['institute'] = 'TAFE'\n",
    "combined = pd.concat([dete_resignations_up, tafe_resignations_up], ignore_index=True)"
   ]
  },
  {
   "cell_type": "code",
   "execution_count": null,
   "metadata": {},
   "outputs": [],
   "source": [
    "#We will verify the number of non null values in each column and remove the ones having 500 or more null values."
   ]
  },
  {
   "cell_type": "code",
   "execution_count": 75,
   "metadata": {},
   "outputs": [
    {
     "name": "stdout",
     "output_type": "stream",
     "text": [
      "torres_strait                                            0\n",
      "south_sea                                                3\n",
      "aboriginal                                               7\n",
      "disability                                               8\n",
      "nesb                                                     9\n",
      "business_unit                                           32\n",
      "classification                                         161\n",
      "region                                                 265\n",
      "role_start_date                                        271\n",
      "dete_start_date                                        283\n",
      "Classification.     Classification                     290\n",
      "Employment Type.     Employment Type                   290\n",
      "CurrentAge.     Current Age                            290\n",
      "Gender.     What is your Gender?                       290\n",
      "role_service                                           290\n",
      "gender                                                 302\n",
      "age                                                    306\n",
      "employment_status                                      307\n",
      "position                                               308\n",
      "ill_health                                             311\n",
      "interpersonal_conflicts                                311\n",
      "work_life_balance                                      311\n",
      "traumatic_incident                                     311\n",
      "study/travel                                           311\n",
      "physical_work_environment                              311\n",
      "none_of_the_above                                      311\n",
      "lack_of_recognition                                    311\n",
      "relocation                                             311\n",
      "maternity/family                                       311\n",
      "job_dissatisfaction                                    311\n",
      "lack_of_job_security                                   311\n",
      "workload                                               311\n",
      "work_location                                          311\n",
      "dissatisfaction_with_the_department                    311\n",
      "career_move_to_public_sector                           311\n",
      "career_move_to_private_sector                          311\n",
      "employment_conditions                                  311\n",
      "Contributing Factors. Other                            332\n",
      "Contributing Factors. Ill Health                       332\n",
      "Contributing Factors. Career Move - Public Sector      332\n",
      "Contributing Factors. Interpersonal Conflict           332\n",
      "Contributing Factors. Job Dissatisfaction              332\n",
      "Contributing Factors. Maternity/Family                 332\n",
      "Contributing Factors. NONE                             332\n",
      "Contributing Factors. Travel                           332\n",
      "Contributing Factors. Dissatisfaction                  332\n",
      "Contributing Factors. Career Move - Private Sector     332\n",
      "Contributing Factors. Study                            332\n",
      "Contributing Factors. Career Move - Self-employment    332\n",
      "Institute                                              340\n",
      "WorkArea                                               340\n",
      "institute_service                                      563\n",
      "cease_date                                             635\n",
      "dissatisfied                                           643\n",
      "institute                                              651\n",
      "separationtype                                         651\n",
      "id                                                     651\n",
      "dtype: int64\n"
     ]
    }
   ],
   "source": [
    "print(combined.notnull().sum().sort_values())"
   ]
  },
  {
   "cell_type": "code",
   "execution_count": 76,
   "metadata": {},
   "outputs": [],
   "source": [
    "combined_updated = combined.dropna(thresh = 500, axis =1).copy()"
   ]
  },
  {
   "cell_type": "code",
   "execution_count": null,
   "metadata": {},
   "outputs": [],
   "source": [
    "#We'll clean the institute_service column."
   ]
  },
  {
   "cell_type": "code",
   "execution_count": 77,
   "metadata": {},
   "outputs": [
    {
     "name": "stdout",
     "output_type": "stream",
     "text": [
      "NaN                   88\n",
      "Less than 1 year      73\n",
      "1-2                   64\n",
      "3-4                   63\n",
      "5-6                   33\n",
      "11-20                 26\n",
      "5.0                   23\n",
      "1.0                   22\n",
      "7-10                  21\n",
      "0.0                   20\n",
      "3.0                   20\n",
      "6.0                   17\n",
      "4.0                   16\n",
      "9.0                   14\n",
      "2.0                   14\n",
      "7.0                   13\n",
      "More than 20 years    10\n",
      "8.0                    8\n",
      "13.0                   8\n",
      "15.0                   7\n",
      "20.0                   7\n",
      "10.0                   6\n",
      "12.0                   6\n",
      "14.0                   6\n",
      "17.0                   6\n",
      "22.0                   6\n",
      "18.0                   5\n",
      "16.0                   5\n",
      "11.0                   4\n",
      "23.0                   4\n",
      "24.0                   4\n",
      "19.0                   3\n",
      "32.0                   3\n",
      "39.0                   3\n",
      "21.0                   3\n",
      "28.0                   2\n",
      "30.0                   2\n",
      "26.0                   2\n",
      "36.0                   2\n",
      "25.0                   2\n",
      "29.0                   1\n",
      "31.0                   1\n",
      "27.0                   1\n",
      "34.0                   1\n",
      "35.0                   1\n",
      "38.0                   1\n",
      "41.0                   1\n",
      "42.0                   1\n",
      "49.0                   1\n",
      "33.0                   1\n",
      "Name: institute_service, dtype: int64\n"
     ]
    }
   ],
   "source": [
    "print(combined_updated['institute_service'].value_counts(dropna=False))"
   ]
  },
  {
   "cell_type": "code",
   "execution_count": 78,
   "metadata": {},
   "outputs": [
    {
     "name": "stdout",
     "output_type": "stream",
     "text": [
      "1.0     159\n",
      "3.0      83\n",
      "5.0      56\n",
      "7.0      34\n",
      "11.0     30\n",
      "0.0      20\n",
      "20.0     17\n",
      "6.0      17\n",
      "4.0      16\n",
      "9.0      14\n",
      "2.0      14\n",
      "13.0      8\n",
      "8.0       8\n",
      "15.0      7\n",
      "17.0      6\n",
      "10.0      6\n",
      "12.0      6\n",
      "14.0      6\n",
      "22.0      6\n",
      "16.0      5\n",
      "18.0      5\n",
      "24.0      4\n",
      "23.0      4\n",
      "39.0      3\n",
      "19.0      3\n",
      "21.0      3\n",
      "32.0      3\n",
      "28.0      2\n",
      "36.0      2\n",
      "25.0      2\n",
      "30.0      2\n",
      "26.0      2\n",
      "29.0      1\n",
      "38.0      1\n",
      "42.0      1\n",
      "27.0      1\n",
      "41.0      1\n",
      "35.0      1\n",
      "49.0      1\n",
      "34.0      1\n",
      "33.0      1\n",
      "31.0      1\n",
      "Name: institute_service_up, dtype: int64\n"
     ]
    }
   ],
   "source": [
    "combined_updated['institute_service_up'] = combined_updated['institute_service'].astype('str').str.extract(r'(\\d+)')\n",
    "combined_updated['institute_service_up'] = combined_updated['institute_service_up'].astype('float')\n",
    "print(combined_updated['institute_service_up'].value_counts())"
   ]
  },
  {
   "cell_type": "code",
   "execution_count": null,
   "metadata": {},
   "outputs": [],
   "source": [
    "#Now we will categorize employees according to the following definitions:\n",
    "#New:           Less than 3 years in the workplace\n",
    "#Experienced:   3-6 years in the workplace\n",
    "#Established:   7-10 years in the workplace\n",
    "#Veteran:       11 or more years in the workplace"
   ]
  },
  {
   "cell_type": "code",
   "execution_count": 79,
   "metadata": {},
   "outputs": [],
   "source": [
    "def transform_service(val):\n",
    "    if val >= 11:\n",
    "        return \"Veteran\"\n",
    "    elif 7 <= val < 11:\n",
    "        return \"Established\"\n",
    "    elif 3 <= val < 7:\n",
    "        return \"Experienced\"\n",
    "    elif pd.isnull(val):\n",
    "        return np.nan\n",
    "    else:\n",
    "        return \"New\""
   ]
  },
  {
   "cell_type": "code",
   "execution_count": 80,
   "metadata": {},
   "outputs": [
    {
     "name": "stdout",
     "output_type": "stream",
     "text": [
      "New            193\n",
      "Experienced    172\n",
      "Veteran        136\n",
      "Established     62\n",
      "Name: service_cat, dtype: int64\n"
     ]
    }
   ],
   "source": [
    "combined_updated['service_cat'] = combined_updated['institute_service_up'].apply(transform_service)\n",
    "print(combined_updated['service_cat'].value_counts())"
   ]
  },
  {
   "cell_type": "code",
   "execution_count": 81,
   "metadata": {},
   "outputs": [
    {
     "name": "stdout",
     "output_type": "stream",
     "text": [
      "False    403\n",
      "True     240\n",
      "NaN        8\n",
      "Name: dissatisfied, dtype: int64\n"
     ]
    }
   ],
   "source": [
    "print(combined_updated['dissatisfied'].value_counts(dropna=False))"
   ]
  },
  {
   "cell_type": "code",
   "execution_count": 82,
   "metadata": {},
   "outputs": [],
   "source": [
    "#We will replace the missing values in the dissatisfied column with the most frequent value, False.\n",
    "combined_updated['dissatisfied'] = combined_updated['dissatisfied'].fillna(False)"
   ]
  },
  {
   "cell_type": "code",
   "execution_count": null,
   "metadata": {},
   "outputs": [],
   "source": [
    "#We will group the data based on their service category, calculate the percentage of employees who resigned due to dissatisfaction in each group and plot the results."
   ]
  },
  {
   "cell_type": "code",
   "execution_count": 83,
   "metadata": {},
   "outputs": [
    {
     "data": {
      "image/png": "[encoded data removed]",
      "text/plain": [
       "<matplotlib.figure.Figure at 0x9ed9bb0>"
      ]
     },
     "metadata": {
      "needs_background": "light"
     },
     "output_type": "display_data"
    }
   ],
   "source": [
    "dis_pct = combined_updated.pivot_table(index='service_cat', values='dissatisfied')\n",
    "import matplotlib.pyplot as plt\n",
    "bar_positions = np.arange(4)+0.75\n",
    "plt.bar(x = bar_positions, height=dis_pct['dissatisfied'], width=0.5)\n",
    "plt.xticks(bar_positions+0.25, dis_pct.index)\n",
    "plt.show()"
   ]
  },
  {
   "cell_type": "code",
   "execution_count": null,
   "metadata": {},
   "outputs": [],
   "source": [
    "#It shows that employees who worked for a short span of time( less than 7 years of service) did resign due to some kind of job dissatisfaction but ,\n",
    "#as we compare the numbers it comes out that the number of long term employees resigning due to job dissatisfaction are more than the number of\n",
    "#short time employees doing the same."
   ]
  }
 ],
 "metadata": {
  "kernelspec": {
   "display_name": "Python 3",
   "language": "python",
   "name": "python3"
  },
  "language_info": {
   "codemirror_mode": {
    "name": "ipython",
    "version": 3
   },
   "file_extension": ".py",
   "mimetype": "text/x-python",
   "name": "python",
   "nbconvert_exporter": "python",
   "pygments_lexer": "ipython3",
   "version": "3.6.2"
  }
 },
 "nbformat": 4,
 "nbformat_minor": 2
}
